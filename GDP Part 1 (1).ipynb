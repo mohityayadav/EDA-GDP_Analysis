{
 "cells": [
  {
   "cell_type": "code",
   "execution_count": 1,
   "metadata": {},
   "outputs": [],
   "source": [
    "#importing libraries\n",
    "\n",
    "import pandas as pd\n",
    "import numpy as np\n",
    "import matplotlib as mlp\n",
    "import matplotlib.pyplot as plt\n",
    "import seaborn as sns\n",
    "import os\n",
    "%matplotlib inline\n"
   ]
  },
  {
   "cell_type": "code",
   "execution_count": 2,
   "metadata": {},
   "outputs": [
    {
     "data": {
      "text/html": [
       "<div>\n",
       "<style scoped>\n",
       "    .dataframe tbody tr th:only-of-type {\n",
       "        vertical-align: middle;\n",
       "    }\n",
       "\n",
       "    .dataframe tbody tr th {\n",
       "        vertical-align: top;\n",
       "    }\n",
       "\n",
       "    .dataframe thead th {\n",
       "        text-align: right;\n",
       "    }\n",
       "</style>\n",
       "<table border=\"1\" class=\"dataframe\">\n",
       "  <thead>\n",
       "    <tr style=\"text-align: right;\">\n",
       "      <th></th>\n",
       "      <th>Items  Description</th>\n",
       "      <th>Duration</th>\n",
       "      <th>Andhra Pradesh</th>\n",
       "      <th>Arunachal Pradesh</th>\n",
       "      <th>Assam</th>\n",
       "      <th>Bihar</th>\n",
       "      <th>Chhattisgarh</th>\n",
       "      <th>Goa</th>\n",
       "      <th>Gujarat</th>\n",
       "      <th>Haryana</th>\n",
       "      <th>...</th>\n",
       "      <th>Tamil Nadu</th>\n",
       "      <th>Telangana</th>\n",
       "      <th>Tripura</th>\n",
       "      <th>Uttar Pradesh</th>\n",
       "      <th>Uttarakhand</th>\n",
       "      <th>Andaman &amp; Nicobar Islands</th>\n",
       "      <th>Chandigarh</th>\n",
       "      <th>Delhi</th>\n",
       "      <th>Puducherry</th>\n",
       "      <th>All_India GDP</th>\n",
       "    </tr>\n",
       "  </thead>\n",
       "  <tbody>\n",
       "    <tr>\n",
       "      <th>2012</th>\n",
       "      <td>(% Growth over previous year)</td>\n",
       "      <td>2012-13</td>\n",
       "      <td>8.43</td>\n",
       "      <td>13.41</td>\n",
       "      <td>9.56</td>\n",
       "      <td>14.25</td>\n",
       "      <td>12.30</td>\n",
       "      <td>-10.02</td>\n",
       "      <td>17.69</td>\n",
       "      <td>16.63</td>\n",
       "      <td>...</td>\n",
       "      <td>13.84</td>\n",
       "      <td>11.70</td>\n",
       "      <td>12.78</td>\n",
       "      <td>13.65</td>\n",
       "      <td>14.12</td>\n",
       "      <td>11.13</td>\n",
       "      <td>15.14</td>\n",
       "      <td>13.81</td>\n",
       "      <td>12.23</td>\n",
       "      <td>13.86</td>\n",
       "    </tr>\n",
       "    <tr>\n",
       "      <th>2013</th>\n",
       "      <td>(% Growth over previous year)</td>\n",
       "      <td>2013-14</td>\n",
       "      <td>12.85</td>\n",
       "      <td>16.38</td>\n",
       "      <td>13.31</td>\n",
       "      <td>12.30</td>\n",
       "      <td>16.44</td>\n",
       "      <td>-5.77</td>\n",
       "      <td>11.47</td>\n",
       "      <td>15.45</td>\n",
       "      <td>...</td>\n",
       "      <td>13.51</td>\n",
       "      <td>12.63</td>\n",
       "      <td>18.14</td>\n",
       "      <td>14.73</td>\n",
       "      <td>13.64</td>\n",
       "      <td>16.68</td>\n",
       "      <td>14.71</td>\n",
       "      <td>13.43</td>\n",
       "      <td>15.87</td>\n",
       "      <td>12.97</td>\n",
       "    </tr>\n",
       "    <tr>\n",
       "      <th>2014</th>\n",
       "      <td>(% Growth over previous year)</td>\n",
       "      <td>2014-15</td>\n",
       "      <td>13.40</td>\n",
       "      <td>14.79</td>\n",
       "      <td>11.45</td>\n",
       "      <td>17.92</td>\n",
       "      <td>13.69</td>\n",
       "      <td>13.12</td>\n",
       "      <td>10.82</td>\n",
       "      <td>9.18</td>\n",
       "      <td>...</td>\n",
       "      <td>12.51</td>\n",
       "      <td>13.05</td>\n",
       "      <td>15.92</td>\n",
       "      <td>10.51</td>\n",
       "      <td>8.12</td>\n",
       "      <td>10.89</td>\n",
       "      <td>12.33</td>\n",
       "      <td>10.96</td>\n",
       "      <td>10.14</td>\n",
       "      <td>10.65</td>\n",
       "    </tr>\n",
       "    <tr>\n",
       "      <th>2015</th>\n",
       "      <td>(% Growth over previous year)</td>\n",
       "      <td>2015-16</td>\n",
       "      <td>15.85</td>\n",
       "      <td>12.07</td>\n",
       "      <td>13.19</td>\n",
       "      <td>10.59</td>\n",
       "      <td>10.98</td>\n",
       "      <td>10.75</td>\n",
       "      <td>11.09</td>\n",
       "      <td>10.91</td>\n",
       "      <td>...</td>\n",
       "      <td>10.99</td>\n",
       "      <td>12.61</td>\n",
       "      <td>NaN</td>\n",
       "      <td>10.58</td>\n",
       "      <td>13.65</td>\n",
       "      <td>NaN</td>\n",
       "      <td>8.84</td>\n",
       "      <td>12.09</td>\n",
       "      <td>10.15</td>\n",
       "      <td>9.99</td>\n",
       "    </tr>\n",
       "    <tr>\n",
       "      <th>2016</th>\n",
       "      <td>(% Growth over previous year)</td>\n",
       "      <td>2016-17</td>\n",
       "      <td>14.65</td>\n",
       "      <td>NaN</td>\n",
       "      <td>NaN</td>\n",
       "      <td>NaN</td>\n",
       "      <td>11.26</td>\n",
       "      <td>NaN</td>\n",
       "      <td>NaN</td>\n",
       "      <td>12.82</td>\n",
       "      <td>...</td>\n",
       "      <td>10.40</td>\n",
       "      <td>13.67</td>\n",
       "      <td>NaN</td>\n",
       "      <td>NaN</td>\n",
       "      <td>NaN</td>\n",
       "      <td>NaN</td>\n",
       "      <td>NaN</td>\n",
       "      <td>12.76</td>\n",
       "      <td>11.40</td>\n",
       "      <td>11.52</td>\n",
       "    </tr>\n",
       "  </tbody>\n",
       "</table>\n",
       "<p>5 rows × 35 columns</p>\n",
       "</div>"
      ],
      "text/plain": [
       "                 Items  Description Duration  Andhra Pradesh   \\\n",
       "2012  (% Growth over previous year)  2012-13             8.43   \n",
       "2013  (% Growth over previous year)  2013-14            12.85   \n",
       "2014  (% Growth over previous year)  2014-15            13.40   \n",
       "2015  (% Growth over previous year)  2015-16            15.85   \n",
       "2016  (% Growth over previous year)  2016-17            14.65   \n",
       "\n",
       "      Arunachal Pradesh  Assam  Bihar  Chhattisgarh    Goa  Gujarat  Haryana  \\\n",
       "2012              13.41   9.56  14.25         12.30 -10.02    17.69    16.63   \n",
       "2013              16.38  13.31  12.30         16.44  -5.77    11.47    15.45   \n",
       "2014              14.79  11.45  17.92         13.69  13.12    10.82     9.18   \n",
       "2015              12.07  13.19  10.59         10.98  10.75    11.09    10.91   \n",
       "2016                NaN    NaN    NaN         11.26    NaN      NaN    12.82   \n",
       "\n",
       "      ...  Tamil Nadu  Telangana  Tripura  Uttar Pradesh  Uttarakhand  \\\n",
       "2012  ...       13.84      11.70    12.78          13.65        14.12   \n",
       "2013  ...       13.51      12.63    18.14          14.73        13.64   \n",
       "2014  ...       12.51      13.05    15.92          10.51         8.12   \n",
       "2015  ...       10.99      12.61      NaN          10.58        13.65   \n",
       "2016  ...       10.40      13.67      NaN            NaN          NaN   \n",
       "\n",
       "      Andaman & Nicobar Islands  Chandigarh  Delhi  Puducherry  All_India GDP  \n",
       "2012                      11.13       15.14  13.81       12.23          13.86  \n",
       "2013                      16.68       14.71  13.43       15.87          12.97  \n",
       "2014                      10.89       12.33  10.96       10.14          10.65  \n",
       "2015                        NaN        8.84  12.09       10.15           9.99  \n",
       "2016                        NaN         NaN  12.76       11.40          11.52  \n",
       "\n",
       "[5 rows x 35 columns]"
      ]
     },
     "execution_count": 2,
     "metadata": {},
     "output_type": "execute_result"
    }
   ],
   "source": [
    "#reading the csv datset(DATA I-A)\n",
    "#this dataset consists of GSDP(Gross State Domestic Product) data for the states and union teritories.\n",
    "df1=pd.read_csv(\"C://Users//mohit//Downloads//Mohit Data Science//GDP//ab40c054-5031-4376-b52e-9813e776f65e.csv\")\n",
    "df1.drop([0,1,2,3,4,5],axis=0,inplace=True)#Droping the rows which are not in use to do analysis for plotting growth over previous year\n",
    "\n",
    "df1.drop(['West Bengal1'],axis=1,inplace=True)#complete column contains nan value so dropping\n",
    "df1_new=df1.rename(index={6:2012,7:2013,8:2014,9:2015,10:2016})#renaming index as years so as to plot same on graph\n",
    "df1_new\n",
    "\n",
    "\n",
    "\n",
    "\n"
   ]
  },
  {
   "cell_type": "code",
   "execution_count": 3,
   "metadata": {},
   "outputs": [],
   "source": [
    "#plot a graph for rows\" %Growth over previous year\" for all the states (not union teritories) whose data is available , use as much data as possible for this exercise.\n",
    "#Use best fit line to represent the growth for each state.Draw similar line graph for the nation as well.\n",
    "\n"
   ]
  },
  {
   "cell_type": "code",
   "execution_count": 4,
   "metadata": {},
   "outputs": [
    {
     "data": {
      "text/plain": [
       "[<matplotlib.lines.Line2D at 0x1c6c200c5f8>]"
      ]
     },
     "execution_count": 4,
     "metadata": {},
     "output_type": "execute_result"
    },
    {
     "data": {
      "image/png": "[encoded data removed]",
      "text/plain": [
       "<Figure size 432x288 with 1 Axes>"
      ]
     },
     "metadata": {
      "needs_background": "light"
     },
     "output_type": "display_data"
    }
   ],
   "source": [
    "\n",
    "\n",
    "#%Growth rate of Haryana from 2012-2016\n",
    "\n",
    "plt.title('Haryana',color='red') \n",
    "plt.xlabel('Year',color='red')\n",
    "plt.ylabel('%Growth over previous year',color='red')\n",
    "x=df1_new.index\n",
    "y=df1_new['Haryana']\n",
    "\n",
    "#plot a best fit line:Equation :Y=Mx+\n",
    "m,c=np.polyfit(df1_new.index,df1_new['Haryana'],1)\n",
    "plt.scatter(x,y,edgecolor='black')\n",
    "plt.plot(df1_new.index,m*df1_new.index+c ,'b--')\n",
    "\n",
    "\n",
    "\n",
    "\n",
    "\n",
    "\n",
    "\n",
    "\n",
    "\n",
    "\n",
    "\n"
   ]
  },
  {
   "cell_type": "code",
   "execution_count": 5,
   "metadata": {},
   "outputs": [
    {
     "data": {
      "text/plain": [
       "[<matplotlib.lines.Line2D at 0x1c6c30aac50>]"
      ]
     },
     "execution_count": 5,
     "metadata": {},
     "output_type": "execute_result"
    },
    {
     "data": {
      "image/png": "[encoded data removed]",
      "text/plain": [
       "<Figure size 432x288 with 1 Axes>"
      ]
     },
     "metadata": {
      "needs_background": "light"
     },
     "output_type": "display_data"
    }
   ],
   "source": [
    "\n",
    "#%Growth rate of Andhra Pradesh  from 2012-2016\n",
    "\n",
    "plt.title('Andhra Pradesh ',color='red') \n",
    "\n",
    "plt.xlabel('Year',color='red')\n",
    "plt.ylabel('%Growth over previous year',color='red')\n",
    "x=df1_new.index\n",
    "y=df1_new['Andhra Pradesh ']\n",
    "\n",
    "#plot a best fit line:Equation :Y=Mx+\n",
    "m,c=np.polyfit(df1_new.index,df1_new['Andhra Pradesh '],1)\n",
    "plt.scatter(x,y,edgecolor='black')\n",
    "plt.plot(df1_new.index,m*df1_new.index+c ,'b--')\n",
    "\n",
    "\n",
    "\n",
    "\n"
   ]
  },
  {
   "cell_type": "code",
   "execution_count": 6,
   "metadata": {},
   "outputs": [
    {
     "data": {
      "text/plain": [
       "[<matplotlib.lines.Line2D at 0x1c6c312c2e8>]"
      ]
     },
     "execution_count": 6,
     "metadata": {},
     "output_type": "execute_result"
    },
    {
     "data": {
      "image/png": "[encoded data removed]",
      "text/plain": [
       "<Figure size 432x288 with 1 Axes>"
      ]
     },
     "metadata": {
      "needs_background": "light"
     },
     "output_type": "display_data"
    }
   ],
   "source": [
    "\n",
    "#%Growth rate of Chhattisgarh from 2012-2016\n",
    "\n",
    "\n",
    "\n",
    "plt.title('Chhattisgarh',color='red') \n",
    "plt.xlabel('Year',color='red')\n",
    "plt.ylabel('%Growth over previous year',color='red')\n",
    "x=df1_new.index\n",
    "y=df1_new['Chhattisgarh']\n",
    "\n",
    "#plot a best fit line:Equation :Y=Mx+\n",
    "m,c=np.polyfit(df1_new.index,df1_new['Chhattisgarh'],1)\n",
    "plt.scatter(x,y,edgecolor='black')\n",
    "plt.plot(df1_new.index,m*df1_new.index+c ,'b--')\n",
    "\n",
    "\n",
    "\n",
    "\n",
    "\n"
   ]
  },
  {
   "cell_type": "code",
   "execution_count": 7,
   "metadata": {},
   "outputs": [
    {
     "data": {
      "text/plain": [
       "[<matplotlib.lines.Line2D at 0x1c6c318de10>]"
      ]
     },
     "execution_count": 7,
     "metadata": {},
     "output_type": "execute_result"
    },
    {
     "data": {
      "image/png": "[encoded data removed]",
      "text/plain": [
       "<Figure size 432x288 with 1 Axes>"
      ]
     },
     "metadata": {
      "needs_background": "light"
     },
     "output_type": "display_data"
    }
   ],
   "source": [
    "\n",
    "\n",
    "\n",
    "\n",
    "#%Growth rate of Madhya Pradesh from 2012-2016\n",
    "\n",
    "plt.title('Madhya Pradesh',color='red') \n",
    "plt.xlabel('Year',color='red')\n",
    "plt.ylabel('%Growth over previous year',color='red')\n",
    "x=df1_new.index\n",
    "y=df1_new['Madhya Pradesh']\n",
    "\n",
    "#plot a best fit line:Equation :Y=Mx+\n",
    "m,c=np.polyfit(df1_new.index,df1_new['Madhya Pradesh'],1)\n",
    "plt.scatter(x,y,edgecolor='black')\n",
    "plt.plot(df1_new.index,m*df1_new.index+c ,'b--')\n",
    "\n",
    "\n",
    "\n",
    "\n",
    "\n",
    "\n",
    "    \n",
    "    "
   ]
  },
  {
   "cell_type": "code",
   "execution_count": 8,
   "metadata": {},
   "outputs": [
    {
     "data": {
      "text/plain": [
       "[<matplotlib.lines.Line2D at 0x1c6c320b2b0>]"
      ]
     },
     "execution_count": 8,
     "metadata": {},
     "output_type": "execute_result"
    },
    {
     "data": {
      "image/png": "[encoded data removed]",
      "text/plain": [
       "<Figure size 432x288 with 1 Axes>"
      ]
     },
     "metadata": {
      "needs_background": "light"
     },
     "output_type": "display_data"
    }
   ],
   "source": [
    "#%Growth rate of Meghalaya from 2012-2016\n",
    "\n",
    "plt.title('Meghalaya',color='red') \n",
    "plt.xlabel('Year',color='red')\n",
    "plt.ylabel('%Growth over previous year',color='red')\n",
    "x=df1_new.index\n",
    "y=df1_new['Meghalaya']\n",
    "\n",
    "#plot a best fit line:Equation :Y=Mx+\n",
    "m,c=np.polyfit(df1_new.index,df1_new['Meghalaya'],1)\n",
    "plt.scatter(x,y,edgecolor='black')\n",
    "plt.plot(df1_new.index,m*df1_new.index+c ,'b--')\n"
   ]
  },
  {
   "cell_type": "code",
   "execution_count": 9,
   "metadata": {},
   "outputs": [
    {
     "data": {
      "text/plain": [
       "[<matplotlib.lines.Line2D at 0x1c6c32707f0>]"
      ]
     },
     "execution_count": 9,
     "metadata": {},
     "output_type": "execute_result"
    },
    {
     "data": {
      "image/png": "[encoded data removed]",
      "text/plain": [
       "<Figure size 432x288 with 1 Axes>"
      ]
     },
     "metadata": {
      "needs_background": "light"
     },
     "output_type": "display_data"
    }
   ],
   "source": [
    "#%Growth rate of Odisha from 2012-2016\n",
    "\n",
    "plt.title('Odisha',color='red') \n",
    "plt.xlabel('Year',color='red')\n",
    "plt.ylabel('%Growth over previous year',color='red')\n",
    "x=df1_new.index\n",
    "y=df1_new['Odisha']\n",
    "\n",
    "#plot a best fit line:Equation :Y=Mx+\n",
    "m,c=np.polyfit(df1_new.index,df1_new['Odisha'],1)\n",
    "plt.scatter(x,y,edgecolor='black')\n",
    "plt.plot(df1_new.index,m*df1_new.index+c ,'b--')\n"
   ]
  },
  {
   "cell_type": "code",
   "execution_count": 10,
   "metadata": {},
   "outputs": [
    {
     "data": {
      "text/plain": [
       "[<matplotlib.lines.Line2D at 0x1c6c32e0ba8>]"
      ]
     },
     "execution_count": 10,
     "metadata": {},
     "output_type": "execute_result"
    },
    {
     "data": {
      "image/png": "[encoded data removed]",
      "text/plain": [
       "<Figure size 432x288 with 1 Axes>"
      ]
     },
     "metadata": {
      "needs_background": "light"
     },
     "output_type": "display_data"
    }
   ],
   "source": [
    "#%Growth rate of Tamil Nadu from 2012-2016\n",
    "\n",
    "plt.title('Tamil Nadu',color='red') \n",
    "plt.xlabel('Year',color='red')\n",
    "plt.ylabel('%Growth over previous year',color='red')\n",
    "x=df1_new.index\n",
    "y=df1_new['Tamil Nadu']\n",
    "\n",
    "#plot a best fit line:Equation :Y=Mx+\n",
    "m,c=np.polyfit(df1_new.index,df1_new['Tamil Nadu'],1)\n",
    "plt.scatter(x,y,edgecolor='black')\n",
    "plt.plot(df1_new.index,m*df1_new.index+c ,'b--')\n"
   ]
  },
  {
   "cell_type": "code",
   "execution_count": 11,
   "metadata": {},
   "outputs": [
    {
     "data": {
      "text/plain": [
       "[<matplotlib.lines.Line2D at 0x1c6c335c080>]"
      ]
     },
     "execution_count": 11,
     "metadata": {},
     "output_type": "execute_result"
    },
    {
     "data": {
      "image/png": "[encoded data removed]",
      "text/plain": [
       "<Figure size 432x288 with 1 Axes>"
      ]
     },
     "metadata": {
      "needs_background": "light"
     },
     "output_type": "display_data"
    }
   ],
   "source": [
    "#%Growth rate of Telangana from 2012-2016\n",
    "\n",
    "plt.title('Telangana',color='red') \n",
    "plt.xlabel('Year',color='red')\n",
    "plt.ylabel('%Growth over previous year',color='red')\n",
    "x=df1_new.index\n",
    "y=df1_new['Telangana']\n",
    "\n",
    "#plot a best fit line:Equation :Y=Mx+\n",
    "m,c=np.polyfit(df1_new.index,df1_new['Telangana'],1)\n",
    "plt.scatter(x,y,edgecolor='black')\n",
    "plt.plot(df1_new.index,m*df1_new.index+c ,'b--')"
   ]
  },
  {
   "cell_type": "code",
   "execution_count": 12,
   "metadata": {},
   "outputs": [
    {
     "data": {
      "text/html": [
       "<div>\n",
       "<style scoped>\n",
       "    .dataframe tbody tr th:only-of-type {\n",
       "        vertical-align: middle;\n",
       "    }\n",
       "\n",
       "    .dataframe tbody tr th {\n",
       "        vertical-align: top;\n",
       "    }\n",
       "\n",
       "    .dataframe thead th {\n",
       "        text-align: right;\n",
       "    }\n",
       "</style>\n",
       "<table border=\"1\" class=\"dataframe\">\n",
       "  <thead>\n",
       "    <tr style=\"text-align: right;\">\n",
       "      <th></th>\n",
       "      <th>Items  Description</th>\n",
       "      <th>Duration</th>\n",
       "      <th>Andhra Pradesh</th>\n",
       "      <th>Arunachal Pradesh</th>\n",
       "      <th>Assam</th>\n",
       "      <th>Bihar</th>\n",
       "      <th>Chhattisgarh</th>\n",
       "      <th>Goa</th>\n",
       "      <th>Gujarat</th>\n",
       "      <th>Haryana</th>\n",
       "      <th>...</th>\n",
       "      <th>Tamil Nadu</th>\n",
       "      <th>Telangana</th>\n",
       "      <th>Tripura</th>\n",
       "      <th>Uttar Pradesh</th>\n",
       "      <th>Uttarakhand</th>\n",
       "      <th>Andaman &amp; Nicobar Islands</th>\n",
       "      <th>Chandigarh</th>\n",
       "      <th>Delhi</th>\n",
       "      <th>Puducherry</th>\n",
       "      <th>All_India GDP</th>\n",
       "    </tr>\n",
       "  </thead>\n",
       "  <tbody>\n",
       "    <tr>\n",
       "      <th>2012</th>\n",
       "      <td>(% Growth over previous year)</td>\n",
       "      <td>2012-13</td>\n",
       "      <td>8.43</td>\n",
       "      <td>13.41</td>\n",
       "      <td>9.56</td>\n",
       "      <td>14.25</td>\n",
       "      <td>12.30</td>\n",
       "      <td>-10.02</td>\n",
       "      <td>17.69</td>\n",
       "      <td>16.63</td>\n",
       "      <td>...</td>\n",
       "      <td>13.84</td>\n",
       "      <td>11.70</td>\n",
       "      <td>12.78</td>\n",
       "      <td>13.65</td>\n",
       "      <td>14.12</td>\n",
       "      <td>11.13</td>\n",
       "      <td>15.14</td>\n",
       "      <td>13.81</td>\n",
       "      <td>12.23</td>\n",
       "      <td>13.86</td>\n",
       "    </tr>\n",
       "    <tr>\n",
       "      <th>2013</th>\n",
       "      <td>(% Growth over previous year)</td>\n",
       "      <td>2013-14</td>\n",
       "      <td>12.85</td>\n",
       "      <td>16.38</td>\n",
       "      <td>13.31</td>\n",
       "      <td>12.30</td>\n",
       "      <td>16.44</td>\n",
       "      <td>-5.77</td>\n",
       "      <td>11.47</td>\n",
       "      <td>15.45</td>\n",
       "      <td>...</td>\n",
       "      <td>13.51</td>\n",
       "      <td>12.63</td>\n",
       "      <td>18.14</td>\n",
       "      <td>14.73</td>\n",
       "      <td>13.64</td>\n",
       "      <td>16.68</td>\n",
       "      <td>14.71</td>\n",
       "      <td>13.43</td>\n",
       "      <td>15.87</td>\n",
       "      <td>12.97</td>\n",
       "    </tr>\n",
       "    <tr>\n",
       "      <th>2014</th>\n",
       "      <td>(% Growth over previous year)</td>\n",
       "      <td>2014-15</td>\n",
       "      <td>13.40</td>\n",
       "      <td>14.79</td>\n",
       "      <td>11.45</td>\n",
       "      <td>17.92</td>\n",
       "      <td>13.69</td>\n",
       "      <td>13.12</td>\n",
       "      <td>10.82</td>\n",
       "      <td>9.18</td>\n",
       "      <td>...</td>\n",
       "      <td>12.51</td>\n",
       "      <td>13.05</td>\n",
       "      <td>15.92</td>\n",
       "      <td>10.51</td>\n",
       "      <td>8.12</td>\n",
       "      <td>10.89</td>\n",
       "      <td>12.33</td>\n",
       "      <td>10.96</td>\n",
       "      <td>10.14</td>\n",
       "      <td>10.65</td>\n",
       "    </tr>\n",
       "    <tr>\n",
       "      <th>2015</th>\n",
       "      <td>(% Growth over previous year)</td>\n",
       "      <td>2015-16</td>\n",
       "      <td>15.85</td>\n",
       "      <td>12.07</td>\n",
       "      <td>13.19</td>\n",
       "      <td>10.59</td>\n",
       "      <td>10.98</td>\n",
       "      <td>10.75</td>\n",
       "      <td>11.09</td>\n",
       "      <td>10.91</td>\n",
       "      <td>...</td>\n",
       "      <td>10.99</td>\n",
       "      <td>12.61</td>\n",
       "      <td>NaN</td>\n",
       "      <td>10.58</td>\n",
       "      <td>13.65</td>\n",
       "      <td>NaN</td>\n",
       "      <td>8.84</td>\n",
       "      <td>12.09</td>\n",
       "      <td>10.15</td>\n",
       "      <td>9.99</td>\n",
       "    </tr>\n",
       "  </tbody>\n",
       "</table>\n",
       "<p>4 rows × 35 columns</p>\n",
       "</div>"
      ],
      "text/plain": [
       "                 Items  Description Duration  Andhra Pradesh   \\\n",
       "2012  (% Growth over previous year)  2012-13             8.43   \n",
       "2013  (% Growth over previous year)  2013-14            12.85   \n",
       "2014  (% Growth over previous year)  2014-15            13.40   \n",
       "2015  (% Growth over previous year)  2015-16            15.85   \n",
       "\n",
       "      Arunachal Pradesh  Assam  Bihar  Chhattisgarh    Goa  Gujarat  Haryana  \\\n",
       "2012              13.41   9.56  14.25         12.30 -10.02    17.69    16.63   \n",
       "2013              16.38  13.31  12.30         16.44  -5.77    11.47    15.45   \n",
       "2014              14.79  11.45  17.92         13.69  13.12    10.82     9.18   \n",
       "2015              12.07  13.19  10.59         10.98  10.75    11.09    10.91   \n",
       "\n",
       "      ...  Tamil Nadu  Telangana  Tripura  Uttar Pradesh  Uttarakhand  \\\n",
       "2012  ...       13.84      11.70    12.78          13.65        14.12   \n",
       "2013  ...       13.51      12.63    18.14          14.73        13.64   \n",
       "2014  ...       12.51      13.05    15.92          10.51         8.12   \n",
       "2015  ...       10.99      12.61      NaN          10.58        13.65   \n",
       "\n",
       "      Andaman & Nicobar Islands  Chandigarh  Delhi  Puducherry  All_India GDP  \n",
       "2012                      11.13       15.14  13.81       12.23          13.86  \n",
       "2013                      16.68       14.71  13.43       15.87          12.97  \n",
       "2014                      10.89       12.33  10.96       10.14          10.65  \n",
       "2015                        NaN        8.84  12.09       10.15           9.99  \n",
       "\n",
       "[4 rows x 35 columns]"
      ]
     },
     "execution_count": 12,
     "metadata": {},
     "output_type": "execute_result"
    }
   ],
   "source": [
    "#Removing year 2016 row because of multiple NAN values\n",
    "\n",
    "df2=pd.read_csv(\"C://Users//mohit//Downloads//Mohit Data Science//GDP//ab40c054-5031-4376-b52e-9813e776f65e.csv\")\n",
    "df2.drop([0,1,2,3,4,5],axis=0,inplace=True)#Droping the rows which are not in use to do analysis for plotting growth over previous year\n",
    "\n",
    "df2.drop(['West Bengal1'],axis=1,inplace=True)#complete column contains nan value so dropping\n",
    "df2_new=df1.rename(index={6:2012,7:2013,8:2014,9:2015,10:2016})#renaming index as years so as to plot same on graph\n",
    "df2_new\n",
    "\n",
    "df2_new.drop([2016],axis=0,inplace=True)\n",
    "df2_new\n"
   ]
  },
  {
   "cell_type": "code",
   "execution_count": 13,
   "metadata": {},
   "outputs": [
    {
     "data": {
      "text/plain": [
       "[<matplotlib.lines.Line2D at 0x1c6c33d5390>]"
      ]
     },
     "execution_count": 13,
     "metadata": {},
     "output_type": "execute_result"
    },
    {
     "data": {
      "image/png": "[encoded data removed]",
      "text/plain": [
       "<Figure size 432x288 with 1 Axes>"
      ]
     },
     "metadata": {
      "needs_background": "light"
     },
     "output_type": "display_data"
    }
   ],
   "source": [
    "#%Growth rate of Arunachal Pradesh from 2012-2015\n",
    "\n",
    "plt.title('Arunachal Pradesh',color='red') \n",
    "plt.xlabel('Year',color='red')\n",
    "plt.ylabel('%Growth over previous year',color='red')\n",
    "x=df2_new.index\n",
    "y=df2_new['Arunachal Pradesh']\n",
    "\n",
    "#plot a best fit line:Equation :Y=Mx+\n",
    "m,c=np.polyfit(df2_new.index,df2_new['Arunachal Pradesh'],1)\n",
    "plt.scatter(x,y,edgecolor='black')\n",
    "plt.plot(df2_new.index,m*df2_new.index+c ,'b--')"
   ]
  },
  {
   "cell_type": "code",
   "execution_count": 14,
   "metadata": {},
   "outputs": [
    {
     "data": {
      "text/plain": [
       "[<matplotlib.lines.Line2D at 0x1c6c342ce10>]"
      ]
     },
     "execution_count": 14,
     "metadata": {},
     "output_type": "execute_result"
    },
    {
     "data": {
      "image/png": "[encoded data removed]",
      "text/plain": [
       "<Figure size 432x288 with 1 Axes>"
      ]
     },
     "metadata": {
      "needs_background": "light"
     },
     "output_type": "display_data"
    }
   ],
   "source": [
    "#%Growth rate of Assam from 2012-2015\n",
    "\n",
    "plt.title('Assam',color='red') \n",
    "plt.xlabel('Year',color='red')\n",
    "plt.ylabel('%Growth over previous year',color='red')\n",
    "x=df2_new.index\n",
    "y=df2_new['Assam']\n",
    "\n",
    "#plot a best fit line:Equation :Y=Mx+\n",
    "m,c=np.polyfit(df2_new.index,df2_new['Assam'],1)\n",
    "plt.scatter(x,y,edgecolor='black')\n",
    "plt.plot(df2_new.index,m*df2_new.index+c ,'b--')"
   ]
  },
  {
   "cell_type": "code",
   "execution_count": 15,
   "metadata": {},
   "outputs": [
    {
     "data": {
      "text/plain": [
       "[<matplotlib.lines.Line2D at 0x1c6c3495e48>]"
      ]
     },
     "execution_count": 15,
     "metadata": {},
     "output_type": "execute_result"
    },
    {
     "data": {
      "image/png": "[encoded data removed]",
      "text/plain": [
       "<Figure size 432x288 with 1 Axes>"
      ]
     },
     "metadata": {
      "needs_background": "light"
     },
     "output_type": "display_data"
    }
   ],
   "source": [
    "#%Growth rate of Bihar from 2012-2015\n",
    "\n",
    "plt.title('Bihar',color='red') \n",
    "plt.xlabel('Year',color='red')\n",
    "plt.ylabel('%Growth over previous year',color='red')\n",
    "x=df2_new.index\n",
    "y=df2_new['Bihar']\n",
    "\n",
    "#plot a best fit line:Equation :Y=Mx+\n",
    "m,c=np.polyfit(df2_new.index,df2_new['Bihar'],1)\n",
    "plt.scatter(x,y,edgecolor='black')\n",
    "plt.plot(df2_new.index,m*df2_new.index+c ,'b--')"
   ]
  },
  {
   "cell_type": "code",
   "execution_count": 16,
   "metadata": {},
   "outputs": [
    {
     "data": {
      "text/plain": [
       "[<matplotlib.lines.Line2D at 0x1c6c3503908>]"
      ]
     },
     "execution_count": 16,
     "metadata": {},
     "output_type": "execute_result"
    },
    {
     "data": {
      "image/png": "[encoded data removed]",
      "text/plain": [
       "<Figure size 432x288 with 1 Axes>"
      ]
     },
     "metadata": {
      "needs_background": "light"
     },
     "output_type": "display_data"
    }
   ],
   "source": [
    "#%Growth rate of Goa from 2012-2015\n",
    "\n",
    "plt.title('Goa',color='red') \n",
    "plt.xlabel('Year',color='red')\n",
    "plt.ylabel('%Growth over previous year',color='red')\n",
    "x=df2_new.index\n",
    "y=df2_new['Goa']\n",
    "\n",
    "#plot a best fit line:Equation :Y=Mx+\n",
    "m,c=np.polyfit(df2_new.index,df2_new['Goa'],1)\n",
    "plt.scatter(x,y,edgecolor='black')\n",
    "plt.plot(df2_new.index,m*df2_new.index+c ,'b--')"
   ]
  },
  {
   "cell_type": "code",
   "execution_count": 17,
   "metadata": {},
   "outputs": [
    {
     "data": {
      "text/plain": [
       "[<matplotlib.lines.Line2D at 0x1c6c35697b8>]"
      ]
     },
     "execution_count": 17,
     "metadata": {},
     "output_type": "execute_result"
    },
    {
     "data": {
      "image/png": "[encoded data removed]",
      "text/plain": [
       "<Figure size 432x288 with 1 Axes>"
      ]
     },
     "metadata": {
      "needs_background": "light"
     },
     "output_type": "display_data"
    }
   ],
   "source": [
    "#%Growth rate of Gujarat from 2012-2015\n",
    "\n",
    "plt.title('Gujarat',color='red') \n",
    "plt.xlabel('Year',color='red')\n",
    "plt.ylabel('%Growth over previous year',color='red')\n",
    "x=df2_new.index\n",
    "y=df2_new['Gujarat']\n",
    "\n",
    "#plot a best fit line:Equation :Y=Mx+\n",
    "m,c=np.polyfit(df2_new.index,df2_new['Gujarat'],1)\n",
    "plt.scatter(x,y,edgecolor='black')\n",
    "plt.plot(df2_new.index,m*df2_new.index+c ,'b--')"
   ]
  },
  {
   "cell_type": "code",
   "execution_count": 18,
   "metadata": {},
   "outputs": [
    {
     "data": {
      "text/plain": [
       "[<matplotlib.lines.Line2D at 0x1c6c35d7710>]"
      ]
     },
     "execution_count": 18,
     "metadata": {},
     "output_type": "execute_result"
    },
    {
     "data": {
      "image/png": "[encoded data removed]",
      "text/plain": [
       "<Figure size 432x288 with 1 Axes>"
      ]
     },
     "metadata": {
      "needs_background": "light"
     },
     "output_type": "display_data"
    }
   ],
   "source": [
    "#%Growth rate of Jammu & Kashmir from 2012-2015\n",
    "\n",
    "plt.title('Jammu & Kashmir',color='red') \n",
    "plt.xlabel('Year',color='red')\n",
    "plt.ylabel('%Growth over previous year',color='red')\n",
    "x=df2_new.index\n",
    "y=df2_new['Jammu & Kashmir']\n",
    "\n",
    "#plot a best fit line:Equation :Y=Mx+\n",
    "m,c=np.polyfit(df2_new.index,df2_new['Jammu & Kashmir'],1)\n",
    "plt.scatter(x,y,edgecolor='black')\n",
    "plt.plot(df2_new.index,m*df2_new.index+c ,'b--')"
   ]
  },
  {
   "cell_type": "code",
   "execution_count": 19,
   "metadata": {},
   "outputs": [
    {
     "data": {
      "text/plain": [
       "[<matplotlib.lines.Line2D at 0x1c6c363bba8>]"
      ]
     },
     "execution_count": 19,
     "metadata": {},
     "output_type": "execute_result"
    },
    {
     "data": {
      "image/png": "[encoded data removed]",
      "text/plain": [
       "<Figure size 432x288 with 1 Axes>"
      ]
     },
     "metadata": {
      "needs_background": "light"
     },
     "output_type": "display_data"
    }
   ],
   "source": [
    "#%Growth rate of Jharkhand from 2012-2015\n",
    "\n",
    "plt.title('Jharkhand',color='red') \n",
    "plt.xlabel('Year',color='red')\n",
    "plt.ylabel('%Growth over previous year',color='red')\n",
    "x=df2_new.index\n",
    "y=df2_new['Jharkhand']\n",
    "\n",
    "#plot a best fit line:Equation :Y=Mx+\n",
    "m,c=np.polyfit(df2_new.index,df2_new['Jharkhand'],1)\n",
    "plt.scatter(x,y,edgecolor='black')\n",
    "plt.plot(df2_new.index,m*df2_new.index+c ,'b--')"
   ]
  },
  {
   "cell_type": "code",
   "execution_count": 20,
   "metadata": {},
   "outputs": [
    {
     "data": {
      "text/plain": [
       "[<matplotlib.lines.Line2D at 0x1c6c36aaa90>]"
      ]
     },
     "execution_count": 20,
     "metadata": {},
     "output_type": "execute_result"
    },
    {
     "data": {
      "image/png": "[encoded data removed]",
      "text/plain": [
       "<Figure size 432x288 with 1 Axes>"
      ]
     },
     "metadata": {
      "needs_background": "light"
     },
     "output_type": "display_data"
    }
   ],
   "source": [
    "#%Growth rate of Karnataka from 2012-2015\n",
    "\n",
    "plt.title('Karnataka',color='red') \n",
    "plt.xlabel('Year',color='red')\n",
    "plt.ylabel('%Growth over previous year',color='red')\n",
    "x=df2_new.index\n",
    "y=df2_new['Karnataka']\n",
    "\n",
    "#plot a best fit line:Equation :Y=Mx+\n",
    "m,c=np.polyfit(df2_new.index,df2_new['Karnataka'],1)\n",
    "plt.scatter(x,y,edgecolor='black')\n",
    "plt.plot(df2_new.index,m*df2_new.index+c ,'b--')"
   ]
  },
  {
   "cell_type": "code",
   "execution_count": 21,
   "metadata": {},
   "outputs": [
    {
     "data": {
      "text/plain": [
       "[<matplotlib.lines.Line2D at 0x1c6c36d9c18>]"
      ]
     },
     "execution_count": 21,
     "metadata": {},
     "output_type": "execute_result"
    },
    {
     "data": {
      "image/png": "[encoded data removed]",
      "text/plain": [
       "<Figure size 432x288 with 1 Axes>"
      ]
     },
     "metadata": {
      "needs_background": "light"
     },
     "output_type": "display_data"
    }
   ],
   "source": [
    "#%Growth rate of Kerala from 2012-2015\n",
    "\n",
    "plt.title('Kerala',color='red') \n",
    "plt.xlabel('Year',color='red')\n",
    "plt.ylabel('%Growth over previous year',color='red')\n",
    "x=df2_new.index\n",
    "y=df2_new['Kerala']\n",
    "\n",
    "#plot a best fit line:Equation :Y=Mx+\n",
    "m,c=np.polyfit(df2_new.index,df2_new['Kerala'],1)\n",
    "plt.scatter(x,y,edgecolor='black')\n",
    "plt.plot(df2_new.index,m*df2_new.index+c ,'b--')"
   ]
  },
  {
   "cell_type": "code",
   "execution_count": 22,
   "metadata": {},
   "outputs": [
    {
     "data": {
      "text/plain": [
       "[<matplotlib.lines.Line2D at 0x1c6c378b048>]"
      ]
     },
     "execution_count": 22,
     "metadata": {},
     "output_type": "execute_result"
    },
    {
     "data": {
      "image/png": "[encoded data removed]",
      "text/plain": [
       "<Figure size 432x288 with 1 Axes>"
      ]
     },
     "metadata": {
      "needs_background": "light"
     },
     "output_type": "display_data"
    }
   ],
   "source": [
    "#%Growth rate of Sikkim from 2012-2015\n",
    "\n",
    "plt.title('Sikkim',color='red') \n",
    "plt.xlabel('Year',color='red')\n",
    "plt.ylabel('%Growth over previous year',color='red')\n",
    "x=df2_new.index\n",
    "y=df2_new['Sikkim']\n",
    "\n",
    "#plot a best fit line:Equation :Y=Mx+\n",
    "m,c=np.polyfit(df2_new.index,df2_new['Sikkim'],1)\n",
    "plt.scatter(x,y,edgecolor='black')\n",
    "plt.plot(df2_new.index,m*df2_new.index+c ,'b--')"
   ]
  },
  {
   "cell_type": "code",
   "execution_count": 23,
   "metadata": {},
   "outputs": [
    {
     "data": {
      "text/plain": [
       "[<matplotlib.lines.Line2D at 0x1c6c37ee5c0>]"
      ]
     },
     "execution_count": 23,
     "metadata": {},
     "output_type": "execute_result"
    },
    {
     "data": {
      "image/png": "[encoded data removed]",
      "text/plain": [
       "<Figure size 432x288 with 1 Axes>"
      ]
     },
     "metadata": {
      "needs_background": "light"
     },
     "output_type": "display_data"
    }
   ],
   "source": [
    "#%Growth rate of Uttar Pradesh from 2012-2015\n",
    "\n",
    "plt.title('Uttar Pradesh',color='red') \n",
    "plt.xlabel('Year',color='red')\n",
    "plt.ylabel('%Growth over previous year',color='red')\n",
    "x=df2_new.index\n",
    "y=df2_new['Uttar Pradesh']\n",
    "\n",
    "#plot a best fit line:Equation :Y=Mx+\n",
    "m,c=np.polyfit(df2_new.index,df2_new['Uttar Pradesh'],1)\n",
    "plt.scatter(x,y,edgecolor='black')\n",
    "plt.plot(df2_new.index,m*df2_new.index+c ,'b--')"
   ]
  },
  {
   "cell_type": "code",
   "execution_count": 24,
   "metadata": {},
   "outputs": [
    {
     "data": {
      "text/plain": [
       "[<matplotlib.lines.Line2D at 0x1c6c3845ba8>]"
      ]
     },
     "execution_count": 24,
     "metadata": {},
     "output_type": "execute_result"
    },
    {
     "data": {
      "image/png": "[encoded data removed]",
      "text/plain": [
       "<Figure size 432x288 with 1 Axes>"
      ]
     },
     "metadata": {
      "needs_background": "light"
     },
     "output_type": "display_data"
    }
   ],
   "source": [
    "#%Growth rate of Uttarakhand from 2012-2015\n",
    "\n",
    "plt.title('Uttarakhand',color='red') \n",
    "plt.xlabel('Year',color='red')\n",
    "plt.ylabel('%Growth over previous year',color='red')\n",
    "x=df2_new.index\n",
    "y=df2_new['Uttarakhand']\n",
    "\n",
    "#plot a best fit line:Equation :Y=Mx+\n",
    "m,c=np.polyfit(df2_new.index,df2_new['Uttarakhand'],1)\n",
    "plt.scatter(x,y,edgecolor='black')\n",
    "plt.plot(df2_new.index,m*df2_new.index+c ,'b--')"
   ]
  },
  {
   "cell_type": "code",
   "execution_count": 25,
   "metadata": {},
   "outputs": [
    {
     "data": {
      "text/html": [
       "<div>\n",
       "<style scoped>\n",
       "    .dataframe tbody tr th:only-of-type {\n",
       "        vertical-align: middle;\n",
       "    }\n",
       "\n",
       "    .dataframe tbody tr th {\n",
       "        vertical-align: top;\n",
       "    }\n",
       "\n",
       "    .dataframe thead th {\n",
       "        text-align: right;\n",
       "    }\n",
       "</style>\n",
       "<table border=\"1\" class=\"dataframe\">\n",
       "  <thead>\n",
       "    <tr style=\"text-align: right;\">\n",
       "      <th></th>\n",
       "      <th>Items  Description</th>\n",
       "      <th>Duration</th>\n",
       "      <th>Andhra Pradesh</th>\n",
       "      <th>Arunachal Pradesh</th>\n",
       "      <th>Assam</th>\n",
       "      <th>Bihar</th>\n",
       "      <th>Chhattisgarh</th>\n",
       "      <th>Goa</th>\n",
       "      <th>Gujarat</th>\n",
       "      <th>Haryana</th>\n",
       "      <th>...</th>\n",
       "      <th>Tamil Nadu</th>\n",
       "      <th>Telangana</th>\n",
       "      <th>Tripura</th>\n",
       "      <th>Uttar Pradesh</th>\n",
       "      <th>Uttarakhand</th>\n",
       "      <th>Andaman &amp; Nicobar Islands</th>\n",
       "      <th>Chandigarh</th>\n",
       "      <th>Delhi</th>\n",
       "      <th>Puducherry</th>\n",
       "      <th>All_India GDP</th>\n",
       "    </tr>\n",
       "  </thead>\n",
       "  <tbody>\n",
       "    <tr>\n",
       "      <th>2012</th>\n",
       "      <td>(% Growth over previous year)</td>\n",
       "      <td>2012-13</td>\n",
       "      <td>8.43</td>\n",
       "      <td>13.41</td>\n",
       "      <td>9.56</td>\n",
       "      <td>14.25</td>\n",
       "      <td>12.30</td>\n",
       "      <td>-10.02</td>\n",
       "      <td>17.69</td>\n",
       "      <td>16.63</td>\n",
       "      <td>...</td>\n",
       "      <td>13.84</td>\n",
       "      <td>11.70</td>\n",
       "      <td>12.78</td>\n",
       "      <td>13.65</td>\n",
       "      <td>14.12</td>\n",
       "      <td>11.13</td>\n",
       "      <td>15.14</td>\n",
       "      <td>13.81</td>\n",
       "      <td>12.23</td>\n",
       "      <td>13.86</td>\n",
       "    </tr>\n",
       "    <tr>\n",
       "      <th>2013</th>\n",
       "      <td>(% Growth over previous year)</td>\n",
       "      <td>2013-14</td>\n",
       "      <td>12.85</td>\n",
       "      <td>16.38</td>\n",
       "      <td>13.31</td>\n",
       "      <td>12.30</td>\n",
       "      <td>16.44</td>\n",
       "      <td>-5.77</td>\n",
       "      <td>11.47</td>\n",
       "      <td>15.45</td>\n",
       "      <td>...</td>\n",
       "      <td>13.51</td>\n",
       "      <td>12.63</td>\n",
       "      <td>18.14</td>\n",
       "      <td>14.73</td>\n",
       "      <td>13.64</td>\n",
       "      <td>16.68</td>\n",
       "      <td>14.71</td>\n",
       "      <td>13.43</td>\n",
       "      <td>15.87</td>\n",
       "      <td>12.97</td>\n",
       "    </tr>\n",
       "    <tr>\n",
       "      <th>2014</th>\n",
       "      <td>(% Growth over previous year)</td>\n",
       "      <td>2014-15</td>\n",
       "      <td>13.40</td>\n",
       "      <td>14.79</td>\n",
       "      <td>11.45</td>\n",
       "      <td>17.92</td>\n",
       "      <td>13.69</td>\n",
       "      <td>13.12</td>\n",
       "      <td>10.82</td>\n",
       "      <td>9.18</td>\n",
       "      <td>...</td>\n",
       "      <td>12.51</td>\n",
       "      <td>13.05</td>\n",
       "      <td>15.92</td>\n",
       "      <td>10.51</td>\n",
       "      <td>8.12</td>\n",
       "      <td>10.89</td>\n",
       "      <td>12.33</td>\n",
       "      <td>10.96</td>\n",
       "      <td>10.14</td>\n",
       "      <td>10.65</td>\n",
       "    </tr>\n",
       "  </tbody>\n",
       "</table>\n",
       "<p>3 rows × 35 columns</p>\n",
       "</div>"
      ],
      "text/plain": [
       "                 Items  Description Duration  Andhra Pradesh   \\\n",
       "2012  (% Growth over previous year)  2012-13             8.43   \n",
       "2013  (% Growth over previous year)  2013-14            12.85   \n",
       "2014  (% Growth over previous year)  2014-15            13.40   \n",
       "\n",
       "      Arunachal Pradesh  Assam  Bihar  Chhattisgarh    Goa  Gujarat  Haryana  \\\n",
       "2012              13.41   9.56  14.25         12.30 -10.02    17.69    16.63   \n",
       "2013              16.38  13.31  12.30         16.44  -5.77    11.47    15.45   \n",
       "2014              14.79  11.45  17.92         13.69  13.12    10.82     9.18   \n",
       "\n",
       "      ...  Tamil Nadu  Telangana  Tripura  Uttar Pradesh  Uttarakhand  \\\n",
       "2012  ...       13.84      11.70    12.78          13.65        14.12   \n",
       "2013  ...       13.51      12.63    18.14          14.73        13.64   \n",
       "2014  ...       12.51      13.05    15.92          10.51         8.12   \n",
       "\n",
       "      Andaman & Nicobar Islands  Chandigarh  Delhi  Puducherry  All_India GDP  \n",
       "2012                      11.13       15.14  13.81       12.23          13.86  \n",
       "2013                      16.68       14.71  13.43       15.87          12.97  \n",
       "2014                      10.89       12.33  10.96       10.14          10.65  \n",
       "\n",
       "[3 rows x 35 columns]"
      ]
     },
     "execution_count": 25,
     "metadata": {},
     "output_type": "execute_result"
    }
   ],
   "source": [
    "#Removing year 2015 row because of multiple NAN values\n",
    "\n",
    "#Removing year 2016 row because of multiple NAN values\n",
    "\n",
    "df3=pd.read_csv(\"C://Users//mohit//Downloads//Mohit Data Science//GDP//ab40c054-5031-4376-b52e-9813e776f65e.csv\")\n",
    "df3.drop([0,1,2,3,4,5],axis=0,inplace=True)#Droping the rows which are not in use to do analysis for plotting growth over previous year\n",
    "\n",
    "df3.drop(['West Bengal1'],axis=1,inplace=True)#complete column contains nan value so dropping\n",
    "df3_new=df1.rename(index={6:2012,7:2013,8:2014,9:2015,10:2016})#renaming index as years so as to plot same on graph\n",
    "\n",
    "\n",
    "df3_new.drop([2015,2016],axis=0,inplace=True)\n",
    "df3_new\n",
    "\n",
    "\n"
   ]
  },
  {
   "cell_type": "code",
   "execution_count": 26,
   "metadata": {},
   "outputs": [
    {
     "data": {
      "text/plain": [
       "[<matplotlib.lines.Line2D at 0x1c6c38bb668>]"
      ]
     },
     "execution_count": 26,
     "metadata": {},
     "output_type": "execute_result"
    },
    {
     "data": {
      "image/png": "[encoded data removed]",
      "text/plain": [
       "<Figure size 432x288 with 1 Axes>"
      ]
     },
     "metadata": {
      "needs_background": "light"
     },
     "output_type": "display_data"
    }
   ],
   "source": [
    "#%Growth rate of Himachal Pradesh from 2012-2014\n",
    "\n",
    "plt.title('Himachal Pradesh',color='red') \n",
    "plt.xlabel('Year',color='red')\n",
    "plt.ylabel('%Growth over previous year',color='red')\n",
    "x=df3_new.index\n",
    "y=df3_new['Himachal Pradesh']\n",
    "\n",
    "#plot a best fit line:Equation :Y=Mx+\n",
    "m,c=np.polyfit(df3_new.index,df3_new['Himachal Pradesh'],1)\n",
    "plt.scatter(x,y,edgecolor='black')\n",
    "plt.plot(df3_new.index,m*df3_new.index+c ,'b--')"
   ]
  },
  {
   "cell_type": "code",
   "execution_count": 27,
   "metadata": {},
   "outputs": [
    {
     "data": {
      "text/plain": [
       "[<matplotlib.lines.Line2D at 0x1c6c39214e0>]"
      ]
     },
     "execution_count": 27,
     "metadata": {},
     "output_type": "execute_result"
    },
    {
     "data": {
      "image/png": "[encoded data removed]",
      "text/plain": [
       "<Figure size 432x288 with 1 Axes>"
      ]
     },
     "metadata": {
      "needs_background": "light"
     },
     "output_type": "display_data"
    }
   ],
   "source": [
    "#%Growth rate of Maharashtra from 2012-2014\n",
    "\n",
    "plt.title('Maharashtra',color='red') \n",
    "plt.xlabel('Year',color='red')\n",
    "plt.ylabel('%Growth over previous year',color='red')\n",
    "x=df3_new.index\n",
    "y=df3_new['Maharashtra']\n",
    "\n",
    "#plot a best fit line:Equation :Y=Mx+\n",
    "m,c=np.polyfit(df3_new.index,df3_new['Maharashtra'],1)\n",
    "plt.scatter(x,y,edgecolor='black')\n",
    "plt.plot(df3_new.index,m*df3_new.index+c ,'b--')"
   ]
  },
  {
   "cell_type": "code",
   "execution_count": 28,
   "metadata": {},
   "outputs": [
    {
     "data": {
      "text/plain": [
       "[<matplotlib.lines.Line2D at 0x1c6c49582e8>]"
      ]
     },
     "execution_count": 28,
     "metadata": {},
     "output_type": "execute_result"
    },
    {
     "data": {
      "image/png": "[encoded data removed]",
      "text/plain": [
       "<Figure size 432x288 with 1 Axes>"
      ]
     },
     "metadata": {
      "needs_background": "light"
     },
     "output_type": "display_data"
    }
   ],
   "source": [
    "#%Growth rate of Manipur from 2012-2014\n",
    "\n",
    "plt.title('Manipur',color='red') \n",
    "plt.xlabel('Year',color='red')\n",
    "plt.ylabel('%Growth over previous year',color='red')\n",
    "x=df3_new.index\n",
    "y=df3_new['Manipur']\n",
    "\n",
    "#plot a best fit line:Equation :Y=Mx+\n",
    "m,c=np.polyfit(df3_new.index,df3_new['Manipur'],1)\n",
    "plt.scatter(x,y,edgecolor='black')\n",
    "plt.plot(df3_new.index,m*df3_new.index+c ,'b--')"
   ]
  },
  {
   "cell_type": "code",
   "execution_count": 29,
   "metadata": {},
   "outputs": [
    {
     "data": {
      "text/plain": [
       "[<matplotlib.lines.Line2D at 0x1c6c49c5198>]"
      ]
     },
     "execution_count": 29,
     "metadata": {},
     "output_type": "execute_result"
    },
    {
     "data": {
      "image/png": "[encoded data removed]",
      "text/plain": [
       "<Figure size 432x288 with 1 Axes>"
      ]
     },
     "metadata": {
      "needs_background": "light"
     },
     "output_type": "display_data"
    }
   ],
   "source": [
    "#%Growth rate of Mizoram from 2012-2014\n",
    "\n",
    "plt.title('Mizoram',color='red') \n",
    "plt.xlabel('Year',color='red')\n",
    "plt.ylabel('%Growth over previous year',color='red')\n",
    "x=df3_new.index\n",
    "y=df3_new['Mizoram']\n",
    "\n",
    "#plot a best fit line:Equation :Y=Mx+\n",
    "m,c=np.polyfit(df3_new.index,df3_new['Mizoram'],1)\n",
    "plt.scatter(x,y,edgecolor='black')\n",
    "plt.plot(df3_new.index,m*df3_new.index+c ,'b--')"
   ]
  },
  {
   "cell_type": "code",
   "execution_count": 30,
   "metadata": {},
   "outputs": [
    {
     "data": {
      "text/plain": [
       "[<matplotlib.lines.Line2D at 0x1c6c4a24ba8>]"
      ]
     },
     "execution_count": 30,
     "metadata": {},
     "output_type": "execute_result"
    },
    {
     "data": {
      "image/png": "[encoded data removed]",
      "text/plain": [
       "<Figure size 432x288 with 1 Axes>"
      ]
     },
     "metadata": {
      "needs_background": "light"
     },
     "output_type": "display_data"
    }
   ],
   "source": [
    "#%Growth rate of Nagaland from 2012-2014\n",
    "\n",
    "plt.title('Nagaland',color='red') \n",
    "plt.xlabel('Year',color='red')\n",
    "plt.ylabel('%Growth over previous year',color='red')\n",
    "x=df3_new.index\n",
    "y=df3_new['Nagaland']\n",
    "\n",
    "#plot a best fit line:Equation :Y=Mx+\n",
    "m,c=np.polyfit(df3_new.index,df3_new['Nagaland'],1)\n",
    "plt.scatter(x,y,edgecolor='black')\n",
    "plt.plot(df3_new.index,m*df3_new.index+c ,'b--')"
   ]
  },
  {
   "cell_type": "code",
   "execution_count": 31,
   "metadata": {},
   "outputs": [
    {
     "data": {
      "text/plain": [
       "[<matplotlib.lines.Line2D at 0x1c6c4a93668>]"
      ]
     },
     "execution_count": 31,
     "metadata": {},
     "output_type": "execute_result"
    },
    {
     "data": {
      "image/png": "[encoded data removed]",
      "text/plain": [
       "<Figure size 432x288 with 1 Axes>"
      ]
     },
     "metadata": {
      "needs_background": "light"
     },
     "output_type": "display_data"
    }
   ],
   "source": [
    "#%Growth rate of Punjab from 2012-2014\n",
    "\n",
    "plt.title('Punjab',color='red') \n",
    "plt.xlabel('Year',color='red')\n",
    "plt.ylabel('%Growth over previous year',color='red')\n",
    "x=df3_new.index\n",
    "y=df3_new['Punjab']\n",
    "\n",
    "#plot a best fit line:Equation :Y=Mx+\n",
    "m,c=np.polyfit(df3_new.index,df3_new['Punjab'],1)\n",
    "plt.scatter(x,y,edgecolor='black')\n",
    "plt.plot(df3_new.index,m*df3_new.index+c ,'b--')"
   ]
  },
  {
   "cell_type": "code",
   "execution_count": 32,
   "metadata": {},
   "outputs": [
    {
     "data": {
      "text/plain": [
       "[<matplotlib.lines.Line2D at 0x1c6c4af8f98>]"
      ]
     },
     "execution_count": 32,
     "metadata": {},
     "output_type": "execute_result"
    },
    {
     "data": {
      "image/png": "[encoded data removed]",
      "text/plain": [
       "<Figure size 432x288 with 1 Axes>"
      ]
     },
     "metadata": {
      "needs_background": "light"
     },
     "output_type": "display_data"
    }
   ],
   "source": [
    "#%Growth rate of Rajasthan from 2012-2014\n",
    "\n",
    "plt.title('Rajasthan',color='red') \n",
    "plt.xlabel('Year',color='red')\n",
    "plt.ylabel('%Growth over previous year',color='red')\n",
    "x=df3_new.index\n",
    "y=df3_new['Rajasthan']\n",
    "\n",
    "#plot a best fit line:Equation :Y=Mx+\n",
    "m,c=np.polyfit(df3_new.index,df3_new['Rajasthan'],1)\n",
    "plt.scatter(x,y,edgecolor='black')\n",
    "plt.plot(df3_new.index,m*df3_new.index+c ,'b--')"
   ]
  },
  {
   "cell_type": "code",
   "execution_count": 33,
   "metadata": {},
   "outputs": [
    {
     "data": {
      "text/plain": [
       "[<matplotlib.lines.Line2D at 0x1c6c4b69518>]"
      ]
     },
     "execution_count": 33,
     "metadata": {},
     "output_type": "execute_result"
    },
    {
     "data": {
      "image/png": "[encoded data removed]",
      "text/plain": [
       "<Figure size 432x288 with 1 Axes>"
      ]
     },
     "metadata": {
      "needs_background": "light"
     },
     "output_type": "display_data"
    }
   ],
   "source": [
    "#%Growth rate of Tripura from 2012-2014\n",
    "\n",
    "plt.title('Tripura',color='red') \n",
    "plt.xlabel('Year',color='red')\n",
    "plt.ylabel('%Growth over previous year',color='red')\n",
    "x=df3_new.index\n",
    "y=df3_new['Tripura']\n",
    "\n",
    "#plot a best fit line:Equation :Y=Mx+\n",
    "m,c=np.polyfit(df3_new.index,df3_new['Tripura'],1)\n",
    "plt.scatter(x,y,edgecolor='black')\n",
    "plt.plot(df3_new.index,m*df3_new.index+c ,'b--')"
   ]
  },
  {
   "cell_type": "code",
   "execution_count": null,
   "metadata": {},
   "outputs": [],
   "source": [
    "\n"
   ]
  },
  {
   "cell_type": "code",
   "execution_count": 34,
   "metadata": {},
   "outputs": [
    {
     "data": {
      "text/plain": [
       "[<matplotlib.lines.Line2D at 0x1c6c4bc8eb8>]"
      ]
     },
     "execution_count": 34,
     "metadata": {},
     "output_type": "execute_result"
    },
    {
     "data": {
      "image/png": "[encoded data removed]",
      "text/plain": [
       "<Figure size 432x288 with 1 Axes>"
      ]
     },
     "metadata": {
      "needs_background": "light"
     },
     "output_type": "display_data"
    }
   ],
   "source": [
    "#%Growth rate of All_India GDP from 2012-2016\n",
    "\n",
    "plt.title('All_India GDP',color='red') \n",
    "plt.xlabel('Year',color='red')\n",
    "plt.ylabel('%Growth over previous year',color='red')\n",
    "x=df1_new.index\n",
    "y=df1_new['All_India GDP']\n",
    "\n",
    "#plot a best fit line:Equation :Y=Mx+\n",
    "m,c=np.polyfit(df1_new.index,df1_new['All_India GDP'],1)\n",
    "plt.scatter(x,y,edgecolor='black')\n",
    "plt.plot(df1_new.index,m*df1_new.index+c ,'b--')\n"
   ]
  },
  {
   "cell_type": "markdown",
   "metadata": {},
   "source": [
    "## How will you compare the Growth rate of any two states?\n",
    "\n",
    "After plotting the best fit line for each state. we can check the the way the line is trending.\n",
    "\n",
    "####  States with increasing best line trend : Andhra Pradesh , Meghalaya , Telangana, Assam , Goa, Jammu & Kashmir , Manipur and Tripura.\n",
    "\n",
    "#### States with decresing best line trend :Haryana , Chattisgarh , Madhya Pradesh , Odisha , Tamil Nadu , Arunachal Pradesh,Bihar , Gujarat , Jharkhand , Karnataka,Kerala, Sikkim , Uttar pradesh,Uttarakhand, Himachal Pradesh , Maharashtra, Mizoram , Nagaland, Punjab , Rajashthan.\n",
    "\n",
    "We can see that many states had a decreasing best line trend when plotted on a graph.\n",
    "Because of which All India also have a decreasing line trend.\n",
    "\n",
    "We saw very good increasing pattern in the states like Andhra Pardesh and Goa with the help of the slope.\n",
    "\n",
    "so With the help of slope we can compare any two states on their growth."
   ]
  },
  {
   "cell_type": "markdown",
   "metadata": {},
   "source": []
  },
  {
   "cell_type": "code",
   "execution_count": 35,
   "metadata": {},
   "outputs": [
    {
     "data": {
      "text/html": [
       "<div>\n",
       "<style scoped>\n",
       "    .dataframe tbody tr th:only-of-type {\n",
       "        vertical-align: middle;\n",
       "    }\n",
       "\n",
       "    .dataframe tbody tr th {\n",
       "        vertical-align: top;\n",
       "    }\n",
       "\n",
       "    .dataframe thead th {\n",
       "        text-align: right;\n",
       "    }\n",
       "</style>\n",
       "<table border=\"1\" class=\"dataframe\">\n",
       "  <thead>\n",
       "    <tr style=\"text-align: right;\">\n",
       "      <th></th>\n",
       "      <th>2012</th>\n",
       "      <th>2013</th>\n",
       "      <th>2014</th>\n",
       "      <th>2015</th>\n",
       "      <th>2016</th>\n",
       "      <th>Mean</th>\n",
       "    </tr>\n",
       "  </thead>\n",
       "  <tbody>\n",
       "    <tr>\n",
       "      <th>Mizoram</th>\n",
       "      <td>15.20</td>\n",
       "      <td>23.10</td>\n",
       "      <td>12.30</td>\n",
       "      <td>NaN</td>\n",
       "      <td>NaN</td>\n",
       "      <td>16.866667</td>\n",
       "    </tr>\n",
       "    <tr>\n",
       "      <th>Nagaland</th>\n",
       "      <td>15.03</td>\n",
       "      <td>21.98</td>\n",
       "      <td>10.85</td>\n",
       "      <td>NaN</td>\n",
       "      <td>NaN</td>\n",
       "      <td>15.953333</td>\n",
       "    </tr>\n",
       "    <tr>\n",
       "      <th>Tripura</th>\n",
       "      <td>12.78</td>\n",
       "      <td>18.14</td>\n",
       "      <td>15.92</td>\n",
       "      <td>NaN</td>\n",
       "      <td>NaN</td>\n",
       "      <td>15.613333</td>\n",
       "    </tr>\n",
       "    <tr>\n",
       "      <th>Madhya Pradesh</th>\n",
       "      <td>20.71</td>\n",
       "      <td>14.91</td>\n",
       "      <td>10.11</td>\n",
       "      <td>12.86</td>\n",
       "      <td>17.74</td>\n",
       "      <td>15.266000</td>\n",
       "    </tr>\n",
       "    <tr>\n",
       "      <th>Karnataka</th>\n",
       "      <td>14.56</td>\n",
       "      <td>18.24</td>\n",
       "      <td>12.70</td>\n",
       "      <td>11.42</td>\n",
       "      <td>NaN</td>\n",
       "      <td>14.230000</td>\n",
       "    </tr>\n",
       "    <tr>\n",
       "      <th>Arunachal Pradesh</th>\n",
       "      <td>13.41</td>\n",
       "      <td>16.38</td>\n",
       "      <td>14.79</td>\n",
       "      <td>12.07</td>\n",
       "      <td>NaN</td>\n",
       "      <td>14.162500</td>\n",
       "    </tr>\n",
       "    <tr>\n",
       "      <th>Bihar</th>\n",
       "      <td>14.25</td>\n",
       "      <td>12.30</td>\n",
       "      <td>17.92</td>\n",
       "      <td>10.59</td>\n",
       "      <td>NaN</td>\n",
       "      <td>13.765000</td>\n",
       "    </tr>\n",
       "    <tr>\n",
       "      <th>Andhra Pradesh</th>\n",
       "      <td>8.43</td>\n",
       "      <td>12.85</td>\n",
       "      <td>13.40</td>\n",
       "      <td>15.85</td>\n",
       "      <td>14.65</td>\n",
       "      <td>13.036000</td>\n",
       "    </tr>\n",
       "    <tr>\n",
       "      <th>Haryana</th>\n",
       "      <td>16.63</td>\n",
       "      <td>15.45</td>\n",
       "      <td>9.18</td>\n",
       "      <td>10.91</td>\n",
       "      <td>12.82</td>\n",
       "      <td>12.998000</td>\n",
       "    </tr>\n",
       "    <tr>\n",
       "      <th>Chhattisgarh</th>\n",
       "      <td>12.30</td>\n",
       "      <td>16.44</td>\n",
       "      <td>13.69</td>\n",
       "      <td>10.98</td>\n",
       "      <td>11.26</td>\n",
       "      <td>12.934000</td>\n",
       "    </tr>\n",
       "    <tr>\n",
       "      <th>Himachal Pradesh</th>\n",
       "      <td>13.89</td>\n",
       "      <td>14.42</td>\n",
       "      <td>10.14</td>\n",
       "      <td>NaN</td>\n",
       "      <td>NaN</td>\n",
       "      <td>12.816667</td>\n",
       "    </tr>\n",
       "    <tr>\n",
       "      <th>Gujarat</th>\n",
       "      <td>17.69</td>\n",
       "      <td>11.47</td>\n",
       "      <td>10.82</td>\n",
       "      <td>11.09</td>\n",
       "      <td>NaN</td>\n",
       "      <td>12.767500</td>\n",
       "    </tr>\n",
       "    <tr>\n",
       "      <th>Kerala</th>\n",
       "      <td>13.26</td>\n",
       "      <td>12.79</td>\n",
       "      <td>13.11</td>\n",
       "      <td>11.85</td>\n",
       "      <td>NaN</td>\n",
       "      <td>12.752500</td>\n",
       "    </tr>\n",
       "    <tr>\n",
       "      <th>Telangana</th>\n",
       "      <td>11.70</td>\n",
       "      <td>12.63</td>\n",
       "      <td>13.05</td>\n",
       "      <td>12.61</td>\n",
       "      <td>13.67</td>\n",
       "      <td>12.732000</td>\n",
       "    </tr>\n",
       "    <tr>\n",
       "      <th>Jharkhand</th>\n",
       "      <td>15.77</td>\n",
       "      <td>7.92</td>\n",
       "      <td>15.14</td>\n",
       "      <td>11.44</td>\n",
       "      <td>NaN</td>\n",
       "      <td>12.567500</td>\n",
       "    </tr>\n",
       "    <tr>\n",
       "      <th>Uttarakhand</th>\n",
       "      <td>14.12</td>\n",
       "      <td>13.64</td>\n",
       "      <td>8.12</td>\n",
       "      <td>13.65</td>\n",
       "      <td>NaN</td>\n",
       "      <td>12.382500</td>\n",
       "    </tr>\n",
       "    <tr>\n",
       "      <th>Uttar Pradesh</th>\n",
       "      <td>13.65</td>\n",
       "      <td>14.73</td>\n",
       "      <td>10.51</td>\n",
       "      <td>10.58</td>\n",
       "      <td>NaN</td>\n",
       "      <td>12.367500</td>\n",
       "    </tr>\n",
       "    <tr>\n",
       "      <th>Tamil Nadu</th>\n",
       "      <td>13.84</td>\n",
       "      <td>13.51</td>\n",
       "      <td>12.51</td>\n",
       "      <td>10.99</td>\n",
       "      <td>10.40</td>\n",
       "      <td>12.250000</td>\n",
       "    </tr>\n",
       "    <tr>\n",
       "      <th>Maharashtra</th>\n",
       "      <td>13.79</td>\n",
       "      <td>13.74</td>\n",
       "      <td>8.78</td>\n",
       "      <td>NaN</td>\n",
       "      <td>NaN</td>\n",
       "      <td>12.103333</td>\n",
       "    </tr>\n",
       "    <tr>\n",
       "      <th>Rajasthan</th>\n",
       "      <td>13.18</td>\n",
       "      <td>11.27</td>\n",
       "      <td>11.37</td>\n",
       "      <td>NaN</td>\n",
       "      <td>NaN</td>\n",
       "      <td>11.940000</td>\n",
       "    </tr>\n",
       "    <tr>\n",
       "      <th>Manipur</th>\n",
       "      <td>6.45</td>\n",
       "      <td>17.83</td>\n",
       "      <td>11.39</td>\n",
       "      <td>NaN</td>\n",
       "      <td>NaN</td>\n",
       "      <td>11.890000</td>\n",
       "    </tr>\n",
       "    <tr>\n",
       "      <th>Assam</th>\n",
       "      <td>9.56</td>\n",
       "      <td>13.31</td>\n",
       "      <td>11.45</td>\n",
       "      <td>13.19</td>\n",
       "      <td>NaN</td>\n",
       "      <td>11.877500</td>\n",
       "    </tr>\n",
       "    <tr>\n",
       "      <th>All_India GDP</th>\n",
       "      <td>13.86</td>\n",
       "      <td>12.97</td>\n",
       "      <td>10.65</td>\n",
       "      <td>9.99</td>\n",
       "      <td>11.52</td>\n",
       "      <td>11.798000</td>\n",
       "    </tr>\n",
       "    <tr>\n",
       "      <th>Punjab</th>\n",
       "      <td>11.67</td>\n",
       "      <td>12.42</td>\n",
       "      <td>9.95</td>\n",
       "      <td>NaN</td>\n",
       "      <td>NaN</td>\n",
       "      <td>11.346667</td>\n",
       "    </tr>\n",
       "    <tr>\n",
       "      <th>Jammu &amp; Kashmir</th>\n",
       "      <td>11.31</td>\n",
       "      <td>10.09</td>\n",
       "      <td>4.70</td>\n",
       "      <td>17.91</td>\n",
       "      <td>NaN</td>\n",
       "      <td>11.002500</td>\n",
       "    </tr>\n",
       "    <tr>\n",
       "      <th>Odisha</th>\n",
       "      <td>13.34</td>\n",
       "      <td>12.95</td>\n",
       "      <td>10.37</td>\n",
       "      <td>6.19</td>\n",
       "      <td>10.85</td>\n",
       "      <td>10.740000</td>\n",
       "    </tr>\n",
       "    <tr>\n",
       "      <th>Sikkim</th>\n",
       "      <td>10.51</td>\n",
       "      <td>12.35</td>\n",
       "      <td>9.72</td>\n",
       "      <td>9.39</td>\n",
       "      <td>NaN</td>\n",
       "      <td>10.492500</td>\n",
       "    </tr>\n",
       "    <tr>\n",
       "      <th>Meghalaya</th>\n",
       "      <td>9.81</td>\n",
       "      <td>4.87</td>\n",
       "      <td>6.41</td>\n",
       "      <td>9.58</td>\n",
       "      <td>10.55</td>\n",
       "      <td>8.244000</td>\n",
       "    </tr>\n",
       "    <tr>\n",
       "      <th>Goa</th>\n",
       "      <td>-10.02</td>\n",
       "      <td>-5.77</td>\n",
       "      <td>13.12</td>\n",
       "      <td>10.75</td>\n",
       "      <td>NaN</td>\n",
       "      <td>2.020000</td>\n",
       "    </tr>\n",
       "  </tbody>\n",
       "</table>\n",
       "</div>"
      ],
      "text/plain": [
       "                    2012   2013   2014   2015   2016       Mean\n",
       "Mizoram            15.20  23.10  12.30    NaN    NaN  16.866667\n",
       "Nagaland           15.03  21.98  10.85    NaN    NaN  15.953333\n",
       "Tripura            12.78  18.14  15.92    NaN    NaN  15.613333\n",
       "Madhya Pradesh     20.71  14.91  10.11  12.86  17.74  15.266000\n",
       "Karnataka          14.56  18.24  12.70  11.42    NaN  14.230000\n",
       "Arunachal Pradesh  13.41  16.38  14.79  12.07    NaN  14.162500\n",
       "Bihar              14.25  12.30  17.92  10.59    NaN  13.765000\n",
       "Andhra Pradesh      8.43  12.85  13.40  15.85  14.65  13.036000\n",
       "Haryana            16.63  15.45   9.18  10.91  12.82  12.998000\n",
       "Chhattisgarh       12.30  16.44  13.69  10.98  11.26  12.934000\n",
       "Himachal Pradesh   13.89  14.42  10.14    NaN    NaN  12.816667\n",
       "Gujarat            17.69  11.47  10.82  11.09    NaN  12.767500\n",
       "Kerala             13.26  12.79  13.11  11.85    NaN  12.752500\n",
       "Telangana          11.70  12.63  13.05  12.61  13.67  12.732000\n",
       "Jharkhand          15.77   7.92  15.14  11.44    NaN  12.567500\n",
       "Uttarakhand        14.12  13.64   8.12  13.65    NaN  12.382500\n",
       "Uttar Pradesh      13.65  14.73  10.51  10.58    NaN  12.367500\n",
       "Tamil Nadu         13.84  13.51  12.51  10.99  10.40  12.250000\n",
       "Maharashtra        13.79  13.74   8.78    NaN    NaN  12.103333\n",
       "Rajasthan          13.18  11.27  11.37    NaN    NaN  11.940000\n",
       "Manipur             6.45  17.83  11.39    NaN    NaN  11.890000\n",
       "Assam               9.56  13.31  11.45  13.19    NaN  11.877500\n",
       "All_India GDP      13.86  12.97  10.65   9.99  11.52  11.798000\n",
       "Punjab             11.67  12.42   9.95    NaN    NaN  11.346667\n",
       "Jammu & Kashmir    11.31  10.09   4.70  17.91    NaN  11.002500\n",
       "Odisha             13.34  12.95  10.37   6.19  10.85  10.740000\n",
       "Sikkim             10.51  12.35   9.72   9.39    NaN  10.492500\n",
       "Meghalaya           9.81   4.87   6.41   9.58  10.55   8.244000\n",
       "Goa               -10.02  -5.77  13.12  10.75    NaN   2.020000"
      ]
     },
     "execution_count": 35,
     "metadata": {},
     "output_type": "execute_result"
    }
   ],
   "source": [
    "#Finding average of all the states and all india grp \n",
    "#Sorting them as per the data in descending order\n",
    "\n",
    "df4=pd.read_csv(\"C://Users//mohit//Downloads//Mohit Data Science//GDP//ab40c054-5031-4376-b52e-9813e776f65e.csv\")\n",
    "df4.drop([0,1,2,3,4,5],axis=0,inplace=True)#Droping the rows which are not in use to do analysis for plotting growth over previous year\n",
    "\n",
    "df4.drop(['West Bengal1','Delhi','Puducherry','Chandigarh','Duration','Items  Description','Andaman & Nicobar Islands'],axis=1,inplace=True)#complete column contains nan value so dropping\n",
    "df4.loc['mean'] = df4.mean()\n",
    "df4.sort_values(['mean'], axis=1, \n",
    "                 ascending=False, inplace=True)\n",
    "df4.T\n",
    "df4_new=df4.rename(index={6:2012,7:2013,8:2014,9:2015,10:2016,'mean':'Mean'})#renaming index as years so as to plot same on graph\n",
    "df4_new.T\n",
    "                      "
   ]
  },
  {
   "cell_type": "markdown",
   "metadata": {},
   "source": [
    "### Q-Which states have been growing constantly fast and which ones have been struggling?Rank top 3 fastest and 3 slowest -growing states.\n",
    "\n",
    "#### Answer : Top 3 fastest growing states1.Mizoram (avg=16.87) 2.Nagaland (avg=15.95) 3.Tripura (avg=15.61)\n",
    "####                  3 slowest growing states     :  1.Goa (avg=2.02) 2.Meghalaya (avg=8.24) 3.Sikkim (avg:10.49)\n",
    "\n",
    "\n",
    "### Q-What is the Nation's growth rate ? \n",
    "#### Ans: Nation's average growth rate is 11.80\n",
    "\n",
    "### Q- What has been the growth rate of your home state and how does it compare to the national growth rate?\n",
    "#### Ans: Growth Rate of home state ( Haryana ) : 13.00 and National Growth is 11.80.\n",
    "####          Growth rate of my home state is better than the national growth rate.\n",
    "\n"
   ]
  },
  {
   "cell_type": "markdown",
   "metadata": {},
   "source": [
    "# Plot the total GDP of the states for the year 2015-16"
   ]
  },
  {
   "cell_type": "code",
   "execution_count": 36,
   "metadata": {},
   "outputs": [
    {
     "data": {
      "text/html": [
       "<div>\n",
       "<style scoped>\n",
       "    .dataframe tbody tr th:only-of-type {\n",
       "        vertical-align: middle;\n",
       "    }\n",
       "\n",
       "    .dataframe tbody tr th {\n",
       "        vertical-align: top;\n",
       "    }\n",
       "\n",
       "    .dataframe thead th {\n",
       "        text-align: right;\n",
       "    }\n",
       "</style>\n",
       "<table border=\"1\" class=\"dataframe\">\n",
       "  <thead>\n",
       "    <tr style=\"text-align: right;\">\n",
       "      <th></th>\n",
       "      <th>0</th>\n",
       "      <th>1</th>\n",
       "      <th>2</th>\n",
       "      <th>3</th>\n",
       "      <th>4</th>\n",
       "    </tr>\n",
       "  </thead>\n",
       "  <tbody>\n",
       "    <tr>\n",
       "      <th>Maharashtra</th>\n",
       "      <td>1272967.0</td>\n",
       "      <td>1448466.0</td>\n",
       "      <td>1647506.0</td>\n",
       "      <td>1792122.0</td>\n",
       "      <td>1540265.25</td>\n",
       "    </tr>\n",
       "    <tr>\n",
       "      <th>Tamil Nadu</th>\n",
       "      <td>751485.0</td>\n",
       "      <td>855481.0</td>\n",
       "      <td>971090.0</td>\n",
       "      <td>1092564.0</td>\n",
       "      <td>1212668.00</td>\n",
       "    </tr>\n",
       "    <tr>\n",
       "      <th>Uttar Pradesh</th>\n",
       "      <td>724049.0</td>\n",
       "      <td>822903.0</td>\n",
       "      <td>944146.0</td>\n",
       "      <td>1043371.0</td>\n",
       "      <td>1153795.00</td>\n",
       "    </tr>\n",
       "    <tr>\n",
       "      <th>Karnataka</th>\n",
       "      <td>603778.0</td>\n",
       "      <td>691700.0</td>\n",
       "      <td>817886.0</td>\n",
       "      <td>921788.0</td>\n",
       "      <td>1027068.00</td>\n",
       "    </tr>\n",
       "    <tr>\n",
       "      <th>Gujarat</th>\n",
       "      <td>615606.0</td>\n",
       "      <td>724495.0</td>\n",
       "      <td>807623.0</td>\n",
       "      <td>895027.0</td>\n",
       "      <td>994316.00</td>\n",
       "    </tr>\n",
       "    <tr>\n",
       "      <th>Andhra Pradesh</th>\n",
       "      <td>379402.0</td>\n",
       "      <td>411404.0</td>\n",
       "      <td>464272.0</td>\n",
       "      <td>526468.0</td>\n",
       "      <td>609934.00</td>\n",
       "    </tr>\n",
       "    <tr>\n",
       "      <th>Kerala</th>\n",
       "      <td>364048.0</td>\n",
       "      <td>412313.0</td>\n",
       "      <td>465041.0</td>\n",
       "      <td>526002.0</td>\n",
       "      <td>588337.00</td>\n",
       "    </tr>\n",
       "    <tr>\n",
       "      <th>Telangana</th>\n",
       "      <td>359433.0</td>\n",
       "      <td>401493.0</td>\n",
       "      <td>452186.0</td>\n",
       "      <td>511178.0</td>\n",
       "      <td>575631.00</td>\n",
       "    </tr>\n",
       "    <tr>\n",
       "      <th>Madhya Pradesh</th>\n",
       "      <td>315561.0</td>\n",
       "      <td>380924.0</td>\n",
       "      <td>437737.0</td>\n",
       "      <td>481982.0</td>\n",
       "      <td>543975.00</td>\n",
       "    </tr>\n",
       "    <tr>\n",
       "      <th>Rajasthan</th>\n",
       "      <td>436465.0</td>\n",
       "      <td>494004.0</td>\n",
       "      <td>549701.0</td>\n",
       "      <td>612194.0</td>\n",
       "      <td>523091.00</td>\n",
       "    </tr>\n",
       "    <tr>\n",
       "      <th>Haryana</th>\n",
       "      <td>297539.0</td>\n",
       "      <td>347032.0</td>\n",
       "      <td>400662.0</td>\n",
       "      <td>437462.0</td>\n",
       "      <td>485184.00</td>\n",
       "    </tr>\n",
       "    <tr>\n",
       "      <th>Bihar</th>\n",
       "      <td>247144.0</td>\n",
       "      <td>282368.0</td>\n",
       "      <td>317101.0</td>\n",
       "      <td>373920.0</td>\n",
       "      <td>413503.00</td>\n",
       "    </tr>\n",
       "    <tr>\n",
       "      <th>Odisha</th>\n",
       "      <td>227872.0</td>\n",
       "      <td>258275.0</td>\n",
       "      <td>291709.0</td>\n",
       "      <td>321971.0</td>\n",
       "      <td>341887.00</td>\n",
       "    </tr>\n",
       "    <tr>\n",
       "      <th>Punjab</th>\n",
       "      <td>266628.0</td>\n",
       "      <td>297734.0</td>\n",
       "      <td>334714.0</td>\n",
       "      <td>368011.0</td>\n",
       "      <td>316771.75</td>\n",
       "    </tr>\n",
       "    <tr>\n",
       "      <th>Chhattisgarh</th>\n",
       "      <td>158074.0</td>\n",
       "      <td>177511.0</td>\n",
       "      <td>206690.0</td>\n",
       "      <td>234982.0</td>\n",
       "      <td>260776.00</td>\n",
       "    </tr>\n",
       "    <tr>\n",
       "      <th>Jharkhand</th>\n",
       "      <td>150918.0</td>\n",
       "      <td>174724.0</td>\n",
       "      <td>188567.0</td>\n",
       "      <td>217107.0</td>\n",
       "      <td>241955.00</td>\n",
       "    </tr>\n",
       "    <tr>\n",
       "      <th>Assam</th>\n",
       "      <td>143175.0</td>\n",
       "      <td>156864.0</td>\n",
       "      <td>177745.0</td>\n",
       "      <td>198098.0</td>\n",
       "      <td>224234.00</td>\n",
       "    </tr>\n",
       "    <tr>\n",
       "      <th>Uttarakhand</th>\n",
       "      <td>115523.0</td>\n",
       "      <td>131835.0</td>\n",
       "      <td>149817.0</td>\n",
       "      <td>161985.0</td>\n",
       "      <td>184091.00</td>\n",
       "    </tr>\n",
       "    <tr>\n",
       "      <th>Jammu &amp; Kashmir</th>\n",
       "      <td>78254.0</td>\n",
       "      <td>87105.0</td>\n",
       "      <td>95893.0</td>\n",
       "      <td>100404.0</td>\n",
       "      <td>118387.00</td>\n",
       "    </tr>\n",
       "    <tr>\n",
       "      <th>Himachal Pradesh</th>\n",
       "      <td>72720.0</td>\n",
       "      <td>82820.0</td>\n",
       "      <td>94764.0</td>\n",
       "      <td>104369.0</td>\n",
       "      <td>88668.25</td>\n",
       "    </tr>\n",
       "    <tr>\n",
       "      <th>Goa</th>\n",
       "      <td>42367.0</td>\n",
       "      <td>38120.0</td>\n",
       "      <td>35921.0</td>\n",
       "      <td>40633.0</td>\n",
       "      <td>45002.00</td>\n",
       "    </tr>\n",
       "    <tr>\n",
       "      <th>Meghalaya</th>\n",
       "      <td>19918.0</td>\n",
       "      <td>21872.0</td>\n",
       "      <td>22938.0</td>\n",
       "      <td>24408.0</td>\n",
       "      <td>26745.00</td>\n",
       "    </tr>\n",
       "    <tr>\n",
       "      <th>Tripura</th>\n",
       "      <td>19208.0</td>\n",
       "      <td>21663.0</td>\n",
       "      <td>25593.0</td>\n",
       "      <td>29667.0</td>\n",
       "      <td>24032.75</td>\n",
       "    </tr>\n",
       "    <tr>\n",
       "      <th>Arunachal Pradesh</th>\n",
       "      <td>11063.0</td>\n",
       "      <td>12547.0</td>\n",
       "      <td>14602.0</td>\n",
       "      <td>16761.0</td>\n",
       "      <td>18784.00</td>\n",
       "    </tr>\n",
       "    <tr>\n",
       "      <th>Sikkim</th>\n",
       "      <td>11165.0</td>\n",
       "      <td>12338.0</td>\n",
       "      <td>13862.0</td>\n",
       "      <td>15209.0</td>\n",
       "      <td>16637.00</td>\n",
       "    </tr>\n",
       "    <tr>\n",
       "      <th>Manipur</th>\n",
       "      <td>12915.0</td>\n",
       "      <td>13748.0</td>\n",
       "      <td>16198.0</td>\n",
       "      <td>18043.0</td>\n",
       "      <td>15226.00</td>\n",
       "    </tr>\n",
       "    <tr>\n",
       "      <th>Nagaland</th>\n",
       "      <td>11839.0</td>\n",
       "      <td>13619.0</td>\n",
       "      <td>16612.0</td>\n",
       "      <td>18414.0</td>\n",
       "      <td>15121.00</td>\n",
       "    </tr>\n",
       "    <tr>\n",
       "      <th>Mizoram</th>\n",
       "      <td>7259.0</td>\n",
       "      <td>8362.0</td>\n",
       "      <td>10293.0</td>\n",
       "      <td>11559.0</td>\n",
       "      <td>9368.25</td>\n",
       "    </tr>\n",
       "  </tbody>\n",
       "</table>\n",
       "</div>"
      ],
      "text/plain": [
       "                           0          1          2          3           4\n",
       "Maharashtra        1272967.0  1448466.0  1647506.0  1792122.0  1540265.25\n",
       "Tamil Nadu          751485.0   855481.0   971090.0  1092564.0  1212668.00\n",
       "Uttar Pradesh       724049.0   822903.0   944146.0  1043371.0  1153795.00\n",
       "Karnataka           603778.0   691700.0   817886.0   921788.0  1027068.00\n",
       "Gujarat             615606.0   724495.0   807623.0   895027.0   994316.00\n",
       "Andhra Pradesh      379402.0   411404.0   464272.0   526468.0   609934.00\n",
       "Kerala              364048.0   412313.0   465041.0   526002.0   588337.00\n",
       "Telangana           359433.0   401493.0   452186.0   511178.0   575631.00\n",
       "Madhya Pradesh      315561.0   380924.0   437737.0   481982.0   543975.00\n",
       "Rajasthan           436465.0   494004.0   549701.0   612194.0   523091.00\n",
       "Haryana             297539.0   347032.0   400662.0   437462.0   485184.00\n",
       "Bihar               247144.0   282368.0   317101.0   373920.0   413503.00\n",
       "Odisha              227872.0   258275.0   291709.0   321971.0   341887.00\n",
       "Punjab              266628.0   297734.0   334714.0   368011.0   316771.75\n",
       "Chhattisgarh        158074.0   177511.0   206690.0   234982.0   260776.00\n",
       "Jharkhand           150918.0   174724.0   188567.0   217107.0   241955.00\n",
       "Assam               143175.0   156864.0   177745.0   198098.0   224234.00\n",
       "Uttarakhand         115523.0   131835.0   149817.0   161985.0   184091.00\n",
       "Jammu & Kashmir      78254.0    87105.0    95893.0   100404.0   118387.00\n",
       "Himachal Pradesh     72720.0    82820.0    94764.0   104369.0    88668.25\n",
       "Goa                  42367.0    38120.0    35921.0    40633.0    45002.00\n",
       "Meghalaya            19918.0    21872.0    22938.0    24408.0    26745.00\n",
       "Tripura              19208.0    21663.0    25593.0    29667.0    24032.75\n",
       "Arunachal Pradesh    11063.0    12547.0    14602.0    16761.0    18784.00\n",
       "Sikkim               11165.0    12338.0    13862.0    15209.0    16637.00\n",
       "Manipur              12915.0    13748.0    16198.0    18043.0    15226.00\n",
       "Nagaland             11839.0    13619.0    16612.0    18414.0    15121.00\n",
       "Mizoram               7259.0     8362.0    10293.0    11559.0     9368.25"
      ]
     },
     "execution_count": 36,
     "metadata": {},
     "output_type": "execute_result"
    }
   ],
   "source": [
    "data=pd.read_csv(\"C://Users//mohit//Downloads//Mohit Data Science//GDP//ab40c054-5031-4376-b52e-9813e776f65e.csv\")\n",
    "data.drop([5,6,7,8,9,10],axis=0,inplace=True)#Droping the rows which are not in use to do analysis for plotting growth over previous year\n",
    "data.drop(['West Bengal1','Duration','Delhi','Puducherry','Chandigarh','All_India GDP','Items  Description','Andaman & Nicobar Islands'],axis=1,inplace=True)#complete column contains nan value so dropping\n",
    "#data.loc['Mean']= data.mean()\n",
    "data.fillna((data.mean()),inplace=True)\n",
    "\n",
    "\n",
    "#replacing Nan with mean of that state\n",
    "\n",
    "data2=data.T\n",
    "data1=data2.sort_values(4,ascending=False)\n",
    "data1\n"
   ]
  },
  {
   "cell_type": "code",
   "execution_count": 37,
   "metadata": {},
   "outputs": [
    {
     "data": {
      "text/plain": [
       "([<matplotlib.axis.XTick at 0x1c6c4c23438>,\n",
       "  <matplotlib.axis.XTick at 0x1c6c4c01b00>,\n",
       "  <matplotlib.axis.XTick at 0x1c6c4c01208>,\n",
       "  <matplotlib.axis.XTick at 0x1c6c4c9fb70>,\n",
       "  <matplotlib.axis.XTick at 0x1c6c4cad0b8>,\n",
       "  <matplotlib.axis.XTick at 0x1c6c4cad5c0>,\n",
       "  <matplotlib.axis.XTick at 0x1c6c4c9f978>,\n",
       "  <matplotlib.axis.XTick at 0x1c6c4cadcc0>,\n",
       "  <matplotlib.axis.XTick at 0x1c6c4cb3278>,\n",
       "  <matplotlib.axis.XTick at 0x1c6c4cb37f0>,\n",
       "  <matplotlib.axis.XTick at 0x1c6c4cb3d68>,\n",
       "  <matplotlib.axis.XTick at 0x1c6c4cba320>,\n",
       "  <matplotlib.axis.XTick at 0x1c6c4cba898>,\n",
       "  <matplotlib.axis.XTick at 0x1c6c4cbae10>,\n",
       "  <matplotlib.axis.XTick at 0x1c6c4cc23c8>,\n",
       "  <matplotlib.axis.XTick at 0x1c6c4cc2940>,\n",
       "  <matplotlib.axis.XTick at 0x1c6c4cba978>,\n",
       "  <matplotlib.axis.XTick at 0x1c6c4cb30f0>,\n",
       "  <matplotlib.axis.XTick at 0x1c6c4cc21d0>,\n",
       "  <matplotlib.axis.XTick at 0x1c6c4cc92b0>,\n",
       "  <matplotlib.axis.XTick at 0x1c6c4cc9828>,\n",
       "  <matplotlib.axis.XTick at 0x1c6c4cc9da0>,\n",
       "  <matplotlib.axis.XTick at 0x1c6c4ccf358>,\n",
       "  <matplotlib.axis.XTick at 0x1c6c4ccf8d0>,\n",
       "  <matplotlib.axis.XTick at 0x1c6c4ccfe48>,\n",
       "  <matplotlib.axis.XTick at 0x1c6c4ccf748>,\n",
       "  <matplotlib.axis.XTick at 0x1c6c4cc9780>,\n",
       "  <matplotlib.axis.XTick at 0x1c6c4cc2da0>],\n",
       " <a list of 28 Text xticklabel objects>)"
      ]
     },
     "execution_count": 37,
     "metadata": {},
     "output_type": "execute_result"
    },
    {
     "data": {
      "image/png": "[encoded data removed]",
      "text/plain": [
       "<Figure size 864x576 with 1 Axes>"
      ]
     },
     "metadata": {
      "needs_background": "light"
     },
     "output_type": "display_data"
    }
   ],
   "source": [
    "\n",
    "plt.figure(figsize=(12,8))\n",
    "plt.bar(data1.index,data1[4])\n",
    "plt.xticks(data1.index, rotation='vertical')\n",
    "\n",
    "\n",
    "\n"
   ]
  },
  {
   "cell_type": "markdown",
   "metadata": {},
   "source": [
    "### Which Plot will you use for this ? why ?\n",
    "#### graph i choosed is Bar Graph because it is easier to read and compare for big data. Also after doing the sorting we can easily see which are the top and bottom states based on GDP.\n",
    "\n",
    "### Identify the top 5 and the bottom 5 states based on Total GDP.\n",
    "#### Top 5     : 1.Maharashtra 2.Tamil Nadu 3.Uttar Pradesh 4.Karnataka 5..Gujarat\n",
    "#### Bottim 5: 1. Mizoram 2.Nagaland 3.Manipur 4.Sikkim 5.Arunachal Pradesh \n",
    "\n",
    "\n",
    "### What insights can you draw from this graph? which states are performing poorly?\n",
    "#### After analysising the graph one can say that states where there are more industralization like have good IT sectors and MNC's have good GDP meanwhile we can see that states which are in east side of india are performing very poor as they have low gdp these are the places which lack industralisation also less population when one compares to states with good gdp."
   ]
  }
 ],
 "metadata": {
  "kernelspec": {
   "display_name": "Python 3",
   "language": "python",
   "name": "python3"
  },
  "language_info": {
   "codemirror_mode": {
    "name": "ipython",
    "version": 3
   },
   "file_extension": ".py",
   "mimetype": "text/x-python",
   "name": "python",
   "nbconvert_exporter": "python",
   "pygments_lexer": "ipython3",
   "version": "3.7.3"
  }
 },
 "nbformat": 4,
 "nbformat_minor": 2
}
